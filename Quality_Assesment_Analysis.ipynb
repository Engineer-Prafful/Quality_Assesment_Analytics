{
 "cells": [
  {
   "cell_type": "markdown",
   "id": "1d373339",
   "metadata": {},
   "source": [
    "# Importing Necessary Libraries"
   ]
  },
  {
   "cell_type": "code",
   "execution_count": 39,
   "id": "7130b4a1",
   "metadata": {},
   "outputs": [],
   "source": [
    "import pandas as pd\n",
    "import numpy as np\n",
    "import matplotlib.pyplot as plt\n",
    "import seaborn as sns\n",
    "import scipy.stats as stats"
   ]
  },
  {
   "cell_type": "code",
   "execution_count": 40,
   "id": "0604650e",
   "metadata": {},
   "outputs": [
    {
     "data": {
      "text/html": [
       "<div>\n",
       "<style scoped>\n",
       "    .dataframe tbody tr th:only-of-type {\n",
       "        vertical-align: middle;\n",
       "    }\n",
       "\n",
       "    .dataframe tbody tr th {\n",
       "        vertical-align: top;\n",
       "    }\n",
       "\n",
       "    .dataframe thead th {\n",
       "        text-align: right;\n",
       "    }\n",
       "</style>\n",
       "<table border=\"1\" class=\"dataframe\">\n",
       "  <thead>\n",
       "    <tr style=\"text-align: right;\">\n",
       "      <th></th>\n",
       "      <th>Id</th>\n",
       "      <th>Assembly Line</th>\n",
       "      <th>Quantity (lts.)</th>\n",
       "      <th>CO2 dissolved</th>\n",
       "      <th>Time limit Crossed</th>\n",
       "    </tr>\n",
       "  </thead>\n",
       "  <tbody>\n",
       "    <tr>\n",
       "      <th>0</th>\n",
       "      <td>1263945</td>\n",
       "      <td>B</td>\n",
       "      <td>1.971072</td>\n",
       "      <td>14.401617</td>\n",
       "      <td>0</td>\n",
       "    </tr>\n",
       "    <tr>\n",
       "      <th>1</th>\n",
       "      <td>1828129</td>\n",
       "      <td>B</td>\n",
       "      <td>2.073388</td>\n",
       "      <td>14.137750</td>\n",
       "      <td>0</td>\n",
       "    </tr>\n",
       "    <tr>\n",
       "      <th>2</th>\n",
       "      <td>1871804</td>\n",
       "      <td>A</td>\n",
       "      <td>2.019492</td>\n",
       "      <td>14.774384</td>\n",
       "      <td>0</td>\n",
       "    </tr>\n",
       "    <tr>\n",
       "      <th>3</th>\n",
       "      <td>1128634</td>\n",
       "      <td>A</td>\n",
       "      <td>2.004422</td>\n",
       "      <td>15.130565</td>\n",
       "      <td>0</td>\n",
       "    </tr>\n",
       "    <tr>\n",
       "      <th>4</th>\n",
       "      <td>1848595</td>\n",
       "      <td>B</td>\n",
       "      <td>2.025784</td>\n",
       "      <td>15.756478</td>\n",
       "      <td>0</td>\n",
       "    </tr>\n",
       "    <tr>\n",
       "      <th>...</th>\n",
       "      <td>...</td>\n",
       "      <td>...</td>\n",
       "      <td>...</td>\n",
       "      <td>...</td>\n",
       "      <td>...</td>\n",
       "    </tr>\n",
       "    <tr>\n",
       "      <th>294</th>\n",
       "      <td>1222073</td>\n",
       "      <td>A</td>\n",
       "      <td>1.974539</td>\n",
       "      <td>14.249096</td>\n",
       "      <td>0</td>\n",
       "    </tr>\n",
       "    <tr>\n",
       "      <th>295</th>\n",
       "      <td>1272076</td>\n",
       "      <td>B</td>\n",
       "      <td>1.974851</td>\n",
       "      <td>14.175526</td>\n",
       "      <td>1</td>\n",
       "    </tr>\n",
       "    <tr>\n",
       "      <th>296</th>\n",
       "      <td>1520410</td>\n",
       "      <td>B</td>\n",
       "      <td>1.991623</td>\n",
       "      <td>13.460719</td>\n",
       "      <td>0</td>\n",
       "    </tr>\n",
       "    <tr>\n",
       "      <th>297</th>\n",
       "      <td>1226204</td>\n",
       "      <td>B</td>\n",
       "      <td>1.935333</td>\n",
       "      <td>12.189065</td>\n",
       "      <td>1</td>\n",
       "    </tr>\n",
       "    <tr>\n",
       "      <th>298</th>\n",
       "      <td>1483198</td>\n",
       "      <td>a</td>\n",
       "      <td>2.007043</td>\n",
       "      <td>13.775047</td>\n",
       "      <td>1</td>\n",
       "    </tr>\n",
       "  </tbody>\n",
       "</table>\n",
       "<p>299 rows × 5 columns</p>\n",
       "</div>"
      ],
      "text/plain": [
       "          Id Assembly Line  Quantity (lts.)  CO2 dissolved  Time limit Crossed\n",
       "0    1263945             B         1.971072      14.401617                   0\n",
       "1    1828129             B         2.073388      14.137750                   0\n",
       "2    1871804             A         2.019492      14.774384                   0\n",
       "3    1128634             A         2.004422      15.130565                   0\n",
       "4    1848595             B         2.025784      15.756478                   0\n",
       "..       ...           ...              ...            ...                 ...\n",
       "294  1222073             A         1.974539      14.249096                   0\n",
       "295  1272076             B         1.974851      14.175526                   1\n",
       "296  1520410             B         1.991623      13.460719                   0\n",
       "297  1226204             B         1.935333      12.189065                   1\n",
       "298  1483198             a         2.007043      13.775047                   1\n",
       "\n",
       "[299 rows x 5 columns]"
      ]
     },
     "execution_count": 40,
     "metadata": {},
     "output_type": "execute_result"
    }
   ],
   "source": [
    "df = pd.read_csv('Quality Assessment - Quality Assesment.csv')\n",
    "df"
   ]
  },
  {
   "cell_type": "markdown",
   "id": "3208974a",
   "metadata": {},
   "source": [
    "## Data Processing and Analyzing numerical values"
   ]
  },
  {
   "cell_type": "code",
   "execution_count": 41,
   "id": "832351d1",
   "metadata": {},
   "outputs": [
    {
     "name": "stdout",
     "output_type": "stream",
     "text": [
      "<class 'pandas.core.frame.DataFrame'>\n",
      "RangeIndex: 299 entries, 0 to 298\n",
      "Data columns (total 5 columns):\n",
      " #   Column              Non-Null Count  Dtype  \n",
      "---  ------              --------------  -----  \n",
      " 0   Id                  299 non-null    int64  \n",
      " 1   Assembly Line       299 non-null    object \n",
      " 2   Quantity (lts.)     293 non-null    float64\n",
      " 3   CO2 dissolved       299 non-null    float64\n",
      " 4   Time limit Crossed  299 non-null    int64  \n",
      "dtypes: float64(2), int64(2), object(1)\n",
      "memory usage: 11.8+ KB\n"
     ]
    }
   ],
   "source": [
    "df.info()"
   ]
  },
  {
   "cell_type": "code",
   "execution_count": 42,
   "id": "92386b66",
   "metadata": {},
   "outputs": [
    {
     "data": {
      "text/html": [
       "<div>\n",
       "<style scoped>\n",
       "    .dataframe tbody tr th:only-of-type {\n",
       "        vertical-align: middle;\n",
       "    }\n",
       "\n",
       "    .dataframe tbody tr th {\n",
       "        vertical-align: top;\n",
       "    }\n",
       "\n",
       "    .dataframe thead th {\n",
       "        text-align: right;\n",
       "    }\n",
       "</style>\n",
       "<table border=\"1\" class=\"dataframe\">\n",
       "  <thead>\n",
       "    <tr style=\"text-align: right;\">\n",
       "      <th></th>\n",
       "      <th>Id</th>\n",
       "      <th>Quantity (lts.)</th>\n",
       "      <th>CO2 dissolved</th>\n",
       "      <th>Time limit Crossed</th>\n",
       "    </tr>\n",
       "  </thead>\n",
       "  <tbody>\n",
       "    <tr>\n",
       "      <th>count</th>\n",
       "      <td>2.990000e+02</td>\n",
       "      <td>293.000000</td>\n",
       "      <td>299.000000</td>\n",
       "      <td>299.000000</td>\n",
       "    </tr>\n",
       "    <tr>\n",
       "      <th>mean</th>\n",
       "      <td>1.506447e+06</td>\n",
       "      <td>1.997992</td>\n",
       "      <td>15.983235</td>\n",
       "      <td>0.180602</td>\n",
       "    </tr>\n",
       "    <tr>\n",
       "      <th>std</th>\n",
       "      <td>2.913488e+05</td>\n",
       "      <td>0.048517</td>\n",
       "      <td>15.322285</td>\n",
       "      <td>0.385333</td>\n",
       "    </tr>\n",
       "    <tr>\n",
       "      <th>min</th>\n",
       "      <td>1.004988e+06</td>\n",
       "      <td>1.891835</td>\n",
       "      <td>2.253454</td>\n",
       "      <td>0.000000</td>\n",
       "    </tr>\n",
       "    <tr>\n",
       "      <th>25%</th>\n",
       "      <td>1.240662e+06</td>\n",
       "      <td>1.968372</td>\n",
       "      <td>13.109196</td>\n",
       "      <td>0.000000</td>\n",
       "    </tr>\n",
       "    <tr>\n",
       "      <th>50%</th>\n",
       "      <td>1.520300e+06</td>\n",
       "      <td>1.997947</td>\n",
       "      <td>14.064673</td>\n",
       "      <td>0.000000</td>\n",
       "    </tr>\n",
       "    <tr>\n",
       "      <th>75%</th>\n",
       "      <td>1.747329e+06</td>\n",
       "      <td>2.030391</td>\n",
       "      <td>15.139656</td>\n",
       "      <td>0.000000</td>\n",
       "    </tr>\n",
       "    <tr>\n",
       "      <th>max</th>\n",
       "      <td>1.999475e+06</td>\n",
       "      <td>2.109917</td>\n",
       "      <td>150.180978</td>\n",
       "      <td>1.000000</td>\n",
       "    </tr>\n",
       "  </tbody>\n",
       "</table>\n",
       "</div>"
      ],
      "text/plain": [
       "                 Id  Quantity (lts.)  CO2 dissolved  Time limit Crossed\n",
       "count  2.990000e+02       293.000000     299.000000          299.000000\n",
       "mean   1.506447e+06         1.997992      15.983235            0.180602\n",
       "std    2.913488e+05         0.048517      15.322285            0.385333\n",
       "min    1.004988e+06         1.891835       2.253454            0.000000\n",
       "25%    1.240662e+06         1.968372      13.109196            0.000000\n",
       "50%    1.520300e+06         1.997947      14.064673            0.000000\n",
       "75%    1.747329e+06         2.030391      15.139656            0.000000\n",
       "max    1.999475e+06         2.109917     150.180978            1.000000"
      ]
     },
     "execution_count": 42,
     "metadata": {},
     "output_type": "execute_result"
    }
   ],
   "source": [
    "df.describe()"
   ]
  },
  {
   "cell_type": "code",
   "execution_count": 43,
   "id": "cbd338fe",
   "metadata": {},
   "outputs": [
    {
     "data": {
      "text/plain": [
       "Id                    0\n",
       "Assembly Line         0\n",
       "Quantity (lts.)       6\n",
       "CO2 dissolved         0\n",
       "Time limit Crossed    0\n",
       "dtype: int64"
      ]
     },
     "execution_count": 43,
     "metadata": {},
     "output_type": "execute_result"
    }
   ],
   "source": [
    "df.isna().sum()"
   ]
  },
  {
   "cell_type": "code",
   "execution_count": 44,
   "id": "aa7130f5",
   "metadata": {},
   "outputs": [
    {
     "data": {
      "text/plain": [
       "0"
      ]
     },
     "execution_count": 44,
     "metadata": {},
     "output_type": "execute_result"
    }
   ],
   "source": [
    "df.duplicated().sum()"
   ]
  },
  {
   "cell_type": "code",
   "execution_count": 45,
   "id": "1b0fec77",
   "metadata": {},
   "outputs": [
    {
     "data": {
      "text/plain": [
       "1.998"
      ]
     },
     "execution_count": 45,
     "metadata": {},
     "output_type": "execute_result"
    }
   ],
   "source": [
    "round(df['Quantity (lts.)'].median(),3)"
   ]
  },
  {
   "cell_type": "code",
   "execution_count": 46,
   "id": "88b98005",
   "metadata": {},
   "outputs": [
    {
     "data": {
      "text/plain": [
       "147.93"
      ]
     },
     "execution_count": 46,
     "metadata": {},
     "output_type": "execute_result"
    }
   ],
   "source": [
    "round((df['CO2 dissolved'].max() - df['CO2 dissolved'].min()),2)"
   ]
  },
  {
   "cell_type": "markdown",
   "id": "ddf1f240",
   "metadata": {},
   "source": [
    "## Graphical Analysis"
   ]
  },
  {
   "cell_type": "code",
   "execution_count": 47,
   "id": "6809ae0b",
   "metadata": {},
   "outputs": [
    {
     "data": {
      "image/png": "[encoded data removed]",
      "text/plain": [
       "<Figure size 800x400 with 1 Axes>"
      ]
     },
     "metadata": {},
     "output_type": "display_data"
    }
   ],
   "source": [
    "plt.figure(figsize = (8,4))\n",
    "sns.set_style('darkgrid')\n",
    "sns.boxplot(x = df['CO2 dissolved'])\n",
    "plt.title('Analyzing outliers in CO2 Dissolved')\n",
    "plt.show()"
   ]
  },
  {
   "cell_type": "code",
   "execution_count": 48,
   "id": "a053416e",
   "metadata": {},
   "outputs": [
    {
     "data": {
      "text/plain": [
       "array(['B', 'A', 'b', 'a'], dtype=object)"
      ]
     },
     "execution_count": 48,
     "metadata": {},
     "output_type": "execute_result"
    }
   ],
   "source": [
    "df['Assembly Line'].unique()"
   ]
  },
  {
   "cell_type": "code",
   "execution_count": 49,
   "id": "6bc91d01",
   "metadata": {},
   "outputs": [],
   "source": [
    "df['Assembly Line'].replace(['a','b'],['A','B'],inplace = True)"
   ]
  },
  {
   "cell_type": "code",
   "execution_count": 50,
   "id": "2346e283",
   "metadata": {},
   "outputs": [
    {
     "data": {
      "text/plain": [
       "array(['B', 'A'], dtype=object)"
      ]
     },
     "execution_count": 50,
     "metadata": {},
     "output_type": "execute_result"
    }
   ],
   "source": [
    "df['Assembly Line'].unique()"
   ]
  },
  {
   "cell_type": "code",
   "execution_count": 51,
   "id": "cff1f82d",
   "metadata": {},
   "outputs": [],
   "source": [
    "df['Quantity (lts.)'].fillna(df['Quantity (lts.)'].mean(),inplace = True)"
   ]
  },
  {
   "cell_type": "code",
   "execution_count": 52,
   "id": "61165287",
   "metadata": {},
   "outputs": [
    {
     "data": {
      "text/plain": [
       "Id                    0\n",
       "Assembly Line         0\n",
       "Quantity (lts.)       0\n",
       "CO2 dissolved         0\n",
       "Time limit Crossed    0\n",
       "dtype: int64"
      ]
     },
     "execution_count": 52,
     "metadata": {},
     "output_type": "execute_result"
    }
   ],
   "source": [
    "df.isna().sum()"
   ]
  },
  {
   "cell_type": "code",
   "execution_count": 53,
   "id": "9b564911",
   "metadata": {},
   "outputs": [
    {
     "data": {
      "text/plain": [
       "54"
      ]
     },
     "execution_count": 53,
     "metadata": {},
     "output_type": "execute_result"
    }
   ],
   "source": [
    "df['Time limit Crossed'].sum()"
   ]
  },
  {
   "cell_type": "code",
   "execution_count": 54,
   "id": "312de417",
   "metadata": {},
   "outputs": [
    {
     "data": {
      "image/png": "[encoded data removed]",
      "text/plain": [
       "<Figure size 800x500 with 1 Axes>"
      ]
     },
     "metadata": {},
     "output_type": "display_data"
    }
   ],
   "source": [
    "plt.figure(figsize = (8,5))\n",
    "sns.set_style('darkgrid')\n",
    "sns.boxplot(x = df['Quantity (lts.)'])\n",
    "plt.title('Analyzing outliers in Quantity (lts.)')\n",
    "plt.show()"
   ]
  },
  {
   "cell_type": "code",
   "execution_count": 55,
   "id": "a368e9b0",
   "metadata": {},
   "outputs": [
    {
     "data": {
      "image/png": "[encoded data removed]",
      "text/plain": [
       "<Figure size 800x500 with 1 Axes>"
      ]
     },
     "metadata": {},
     "output_type": "display_data"
    }
   ],
   "source": [
    "plt.figure(figsize = (8,5))\n",
    "sns.set_style('darkgrid')\n",
    "sns.histplot(x = df['Quantity (lts.)'], kde = True, label = 'Quantity (lts.)')\n",
    "plt.title('Qauntity Distribution')\n",
    "plt.legend(loc = 'upper right')\n",
    "plt.show()"
   ]
  },
  {
   "cell_type": "code",
   "execution_count": 67,
   "id": "1df466ea",
   "metadata": {},
   "outputs": [
    {
     "data": {
      "image/png": "[encoded data removed]",
      "text/plain": [
       "<Figure size 800x500 with 1 Axes>"
      ]
     },
     "metadata": {},
     "output_type": "display_data"
    }
   ],
   "source": [
    "plt.figure(figsize = (8,5))\n",
    "sns.set_style('darkgrid')\n",
    "sns.barplot(x = df['Assembly Line'],y = df['Time limit Crossed'],label = ['B','A'])\n",
    "plt.title('Time Limit Crossed for different Assembly Line')\n",
    "plt.legend(loc = 'upper right')\n",
    "plt.show()"
   ]
  },
  {
   "cell_type": "markdown",
   "id": "a3f684ce",
   "metadata": {},
   "source": [
    "## Analyzing the correlation"
   ]
  },
  {
   "cell_type": "code",
   "execution_count": 18,
   "id": "032fefd6",
   "metadata": {},
   "outputs": [
    {
     "data": {
      "text/html": [
       "<div>\n",
       "<style scoped>\n",
       "    .dataframe tbody tr th:only-of-type {\n",
       "        vertical-align: middle;\n",
       "    }\n",
       "\n",
       "    .dataframe tbody tr th {\n",
       "        vertical-align: top;\n",
       "    }\n",
       "\n",
       "    .dataframe thead th {\n",
       "        text-align: right;\n",
       "    }\n",
       "</style>\n",
       "<table border=\"1\" class=\"dataframe\">\n",
       "  <thead>\n",
       "    <tr style=\"text-align: right;\">\n",
       "      <th></th>\n",
       "      <th>Id</th>\n",
       "      <th>Quantity (lts.)</th>\n",
       "      <th>CO2 dissolved</th>\n",
       "      <th>Time limit Crossed</th>\n",
       "    </tr>\n",
       "  </thead>\n",
       "  <tbody>\n",
       "    <tr>\n",
       "      <th>Id</th>\n",
       "      <td>1.000000</td>\n",
       "      <td>0.030649</td>\n",
       "      <td>-0.058282</td>\n",
       "      <td>-0.089417</td>\n",
       "    </tr>\n",
       "    <tr>\n",
       "      <th>Quantity (lts.)</th>\n",
       "      <td>0.030649</td>\n",
       "      <td>1.000000</td>\n",
       "      <td>0.046983</td>\n",
       "      <td>-0.027994</td>\n",
       "    </tr>\n",
       "    <tr>\n",
       "      <th>CO2 dissolved</th>\n",
       "      <td>-0.058282</td>\n",
       "      <td>0.046983</td>\n",
       "      <td>1.000000</td>\n",
       "      <td>-0.061760</td>\n",
       "    </tr>\n",
       "    <tr>\n",
       "      <th>Time limit Crossed</th>\n",
       "      <td>-0.089417</td>\n",
       "      <td>-0.027994</td>\n",
       "      <td>-0.061760</td>\n",
       "      <td>1.000000</td>\n",
       "    </tr>\n",
       "  </tbody>\n",
       "</table>\n",
       "</div>"
      ],
      "text/plain": [
       "                          Id  Quantity (lts.)  CO2 dissolved  \\\n",
       "Id                  1.000000         0.030649      -0.058282   \n",
       "Quantity (lts.)     0.030649         1.000000       0.046983   \n",
       "CO2 dissolved      -0.058282         0.046983       1.000000   \n",
       "Time limit Crossed -0.089417        -0.027994      -0.061760   \n",
       "\n",
       "                    Time limit Crossed  \n",
       "Id                           -0.089417  \n",
       "Quantity (lts.)              -0.027994  \n",
       "CO2 dissolved                -0.061760  \n",
       "Time limit Crossed            1.000000  "
      ]
     },
     "execution_count": 18,
     "metadata": {},
     "output_type": "execute_result"
    }
   ],
   "source": [
    "df.select_dtypes(np.number).corr()"
   ]
  },
  {
   "cell_type": "code",
   "execution_count": 66,
   "id": "f475fcf2",
   "metadata": {},
   "outputs": [
    {
     "data": {
      "image/png": "[encoded data removed]",
      "text/plain": [
       "<Figure size 640x480 with 2 Axes>"
      ]
     },
     "metadata": {},
     "output_type": "display_data"
    }
   ],
   "source": [
    "sns.heatmap(df.select_dtypes(np.number).corr(), annot = True)\n",
    "plt.title('Correlation between different variables')\n",
    "plt.show()"
   ]
  },
  {
   "cell_type": "code",
   "execution_count": 69,
   "id": "9e83f164",
   "metadata": {},
   "outputs": [
    {
     "data": {
      "image/png": "[encoded data removed]",
      "text/plain": [
       "<Figure size 800x500 with 1 Axes>"
      ]
     },
     "metadata": {},
     "output_type": "display_data"
    }
   ],
   "source": [
    "plt.figure(figsize = (8,5))\n",
    "sns.set_style('darkgrid')\n",
    "sns.barplot(x = df['Assembly Line'],y = df['CO2 dissolved'], label = ['B','A'])\n",
    "plt.title('CO2 Dissolved in different Assembly Line')\n",
    "plt.legend(loc = 'upper right')\n",
    "plt.show()"
   ]
  },
  {
   "cell_type": "code",
   "execution_count": 70,
   "id": "ebe9febe",
   "metadata": {},
   "outputs": [
    {
     "data": {
      "text/plain": [
       "Assembly Line\n",
       "B    160\n",
       "A    139\n",
       "Name: count, dtype: int64"
      ]
     },
     "execution_count": 70,
     "metadata": {},
     "output_type": "execute_result"
    }
   ],
   "source": [
    "df['Assembly Line'].value_counts()"
   ]
  },
  {
   "cell_type": "code",
   "execution_count": 71,
   "id": "4eef5356",
   "metadata": {},
   "outputs": [
    {
     "name": "stdout",
     "output_type": "stream",
     "text": [
      "10.06\n",
      "18.19\n"
     ]
    }
   ],
   "source": [
    "q1 = df['CO2 dissolved'].quantile(0.25)\n",
    "q3 = df['CO2 dissolved'].quantile(0.75)\n",
    "iqr = q3 - q1\n",
    "lower_cutoff = q1-(1.5*iqr)\n",
    "upper_cutoff = q3+(1.5*iqr)\n",
    "print(lower_cutoff.round(2))\n",
    "print(upper_cutoff.round(2))"
   ]
  },
  {
   "cell_type": "code",
   "execution_count": 72,
   "id": "73a4991f",
   "metadata": {},
   "outputs": [],
   "source": [
    "upper_outliers = np.where(df['CO2 dissolved'] >= upper_cutoff)[0]\n",
    "lower_outliers = np.where(df['CO2 dissolved'] <= lower_cutoff)[0]\n",
    "df.drop(index = upper_outliers, inplace=True)\n",
    "df.drop(index = lower_outliers, inplace=True)"
   ]
  },
  {
   "cell_type": "code",
   "execution_count": 73,
   "id": "f794b4be",
   "metadata": {},
   "outputs": [
    {
     "data": {
      "text/plain": [
       "14.05"
      ]
     },
     "execution_count": 73,
     "metadata": {},
     "output_type": "execute_result"
    }
   ],
   "source": [
    "df['CO2 dissolved'].mean().round(2)"
   ]
  },
  {
   "cell_type": "code",
   "execution_count": 74,
   "id": "30d777bc",
   "metadata": {},
   "outputs": [
    {
     "data": {
      "image/png": "[encoded data removed]",
      "text/plain": [
       "<Figure size 800x500 with 1 Axes>"
      ]
     },
     "metadata": {},
     "output_type": "display_data"
    }
   ],
   "source": [
    "plt.figure(figsize = (8,5))\n",
    "sns.set_style('darkgrid')\n",
    "sns.barplot(x = df['Assembly Line'],y = df['CO2 dissolved'], label = ['B','A'])\n",
    "plt.title('CO2 Dissolved in different Assembly Line')\n",
    "plt.legend(loc = 'upper right')\n",
    "plt.show()"
   ]
  },
  {
   "cell_type": "code",
   "execution_count": 75,
   "id": "d14118e4",
   "metadata": {},
   "outputs": [
    {
     "data": {
      "text/html": [
       "<div>\n",
       "<style scoped>\n",
       "    .dataframe tbody tr th:only-of-type {\n",
       "        vertical-align: middle;\n",
       "    }\n",
       "\n",
       "    .dataframe tbody tr th {\n",
       "        vertical-align: top;\n",
       "    }\n",
       "\n",
       "    .dataframe thead th {\n",
       "        text-align: right;\n",
       "    }\n",
       "</style>\n",
       "<table border=\"1\" class=\"dataframe\">\n",
       "  <thead>\n",
       "    <tr style=\"text-align: right;\">\n",
       "      <th></th>\n",
       "      <th>Time limit Crossed</th>\n",
       "    </tr>\n",
       "    <tr>\n",
       "      <th>Assembly Line</th>\n",
       "      <th></th>\n",
       "    </tr>\n",
       "  </thead>\n",
       "  <tbody>\n",
       "    <tr>\n",
       "      <th>A</th>\n",
       "      <td>20</td>\n",
       "    </tr>\n",
       "    <tr>\n",
       "      <th>B</th>\n",
       "      <td>34</td>\n",
       "    </tr>\n",
       "  </tbody>\n",
       "</table>\n",
       "</div>"
      ],
      "text/plain": [
       "               Time limit Crossed\n",
       "Assembly Line                    \n",
       "A                              20\n",
       "B                              34"
      ]
     },
     "execution_count": 75,
     "metadata": {},
     "output_type": "execute_result"
    }
   ],
   "source": [
    "df.groupby('Assembly Line').agg({'Time limit Crossed':'sum'})"
   ]
  },
  {
   "cell_type": "code",
   "execution_count": 76,
   "id": "36a8c4a7",
   "metadata": {},
   "outputs": [
    {
     "data": {
      "text/plain": [
       "Assembly Line\n",
       "B    157\n",
       "A    136\n",
       "Name: count, dtype: int64"
      ]
     },
     "execution_count": 76,
     "metadata": {},
     "output_type": "execute_result"
    }
   ],
   "source": [
    "df['Assembly Line'].value_counts()"
   ]
  },
  {
   "cell_type": "code",
   "execution_count": 77,
   "id": "6f63b7c6",
   "metadata": {},
   "outputs": [
    {
     "name": "stdout",
     "output_type": "stream",
     "text": [
      "0.14\n",
      "0.21\n"
     ]
    }
   ],
   "source": [
    "prob_timeLimitCross_A = round(20/139,2)\n",
    "prob_timeLimitCross_B = round(34/160,2)\n",
    "print(prob_timeLimitCross_A)\n",
    "print(prob_timeLimitCross_B)"
   ]
  },
  {
   "cell_type": "markdown",
   "id": "6c036c51",
   "metadata": {},
   "source": [
    "# Finding binomial prob. distribution"
   ]
  },
  {
   "cell_type": "code",
   "execution_count": 78,
   "id": "eadea096",
   "metadata": {},
   "outputs": [
    {
     "data": {
      "text/plain": [
       "0.14"
      ]
     },
     "execution_count": 78,
     "metadata": {},
     "output_type": "execute_result"
    }
   ],
   "source": [
    "k=10\n",
    "n=50\n",
    "prob = stats.binom.pmf(k,n,prob_timeLimitCross_B)\n",
    "prob.round(2)"
   ]
  },
  {
   "cell_type": "code",
   "execution_count": 79,
   "id": "6faa2687",
   "metadata": {},
   "outputs": [
    {
     "data": {
      "text/plain": [
       "0.07"
      ]
     },
     "execution_count": 79,
     "metadata": {},
     "output_type": "execute_result"
    }
   ],
   "source": [
    "k=10\n",
    "n=50\n",
    "prob = stats.binom.pmf(k,n,prob_timeLimitCross_A)\n",
    "prob.round(2)"
   ]
  },
  {
   "cell_type": "code",
   "execution_count": 80,
   "id": "aeda63aa",
   "metadata": {},
   "outputs": [
    {
     "data": {
      "text/plain": [
       "0.62"
      ]
     },
     "execution_count": 80,
     "metadata": {},
     "output_type": "execute_result"
    }
   ],
   "source": [
    "k=9\n",
    "n=50\n",
    "prob = 1-stats.binom.cdf(k,n,prob_timeLimitCross_B)\n",
    "prob.round(2)"
   ]
  },
  {
   "cell_type": "code",
   "execution_count": 81,
   "id": "ec97f286",
   "metadata": {},
   "outputs": [
    {
     "data": {
      "text/plain": [
       "0.15"
      ]
     },
     "execution_count": 81,
     "metadata": {},
     "output_type": "execute_result"
    }
   ],
   "source": [
    "k=9\n",
    "n=50\n",
    "prob = 1-stats.binom.cdf(k,n,prob_timeLimitCross_A)\n",
    "prob.round(2)"
   ]
  },
  {
   "cell_type": "markdown",
   "id": "07032c6b",
   "metadata": {},
   "source": [
    "# Treating and removing outliers in quantity"
   ]
  },
  {
   "cell_type": "code",
   "execution_count": 82,
   "id": "3f3c1192",
   "metadata": {},
   "outputs": [
    {
     "name": "stdout",
     "output_type": "stream",
     "text": [
      "1.88\n",
      "2.12\n"
     ]
    }
   ],
   "source": [
    "q1 = df['Quantity (lts.)'].quantile(0.25)\n",
    "q3 = df['Quantity (lts.)'].quantile(0.75)\n",
    "iqr = q3 - q1\n",
    "lower_cutoff = q1-(1.5*iqr)\n",
    "upper_cutoff = q3+(1.5*iqr)\n",
    "print(lower_cutoff.round(2))\n",
    "print(upper_cutoff.round(2))"
   ]
  },
  {
   "cell_type": "code",
   "execution_count": 83,
   "id": "bcb4badb",
   "metadata": {},
   "outputs": [],
   "source": [
    "upper_outliers = np.where(df['Quantity (lts.)'] >= upper_cutoff)[0]\n",
    "lower_outliers = np.where(df['Quantity (lts.)'] <= lower_cutoff)[0]\n",
    "df.drop(index = upper_outliers, inplace=True)\n",
    "df.drop(index = lower_outliers, inplace=True)"
   ]
  },
  {
   "cell_type": "markdown",
   "id": "3b1134af",
   "metadata": {},
   "source": [
    "# Finding normal distribution"
   ]
  },
  {
   "cell_type": "code",
   "execution_count": 84,
   "id": "efac3ef6",
   "metadata": {},
   "outputs": [
    {
     "data": {
      "text/plain": [
       "2.0"
      ]
     },
     "execution_count": 84,
     "metadata": {},
     "output_type": "execute_result"
    }
   ],
   "source": [
    "mean_of_quant = round(np.mean(df['Quantity (lts.)']),2)\n",
    "mean_of_quant"
   ]
  },
  {
   "cell_type": "code",
   "execution_count": 85,
   "id": "f78ce8a2",
   "metadata": {},
   "outputs": [
    {
     "data": {
      "text/plain": [
       "0.05"
      ]
     },
     "execution_count": 85,
     "metadata": {},
     "output_type": "execute_result"
    }
   ],
   "source": [
    "std_of_quant = round(np.std(df['Quantity (lts.)']),2)\n",
    "std_of_quant"
   ]
  },
  {
   "cell_type": "code",
   "execution_count": 86,
   "id": "3b5ebb42",
   "metadata": {},
   "outputs": [],
   "source": [
    "net_content1 = 1.90\n",
    "z_score = (net_content1 - mean_of_quant)/std_of_quant\n",
    "prob1 = stats.norm.cdf(z_score)\n",
    "\n",
    "net_content2 = 2.10\n",
    "z_score = (net_content2 - mean_of_quant)/std_of_quant\n",
    "prob2 = stats.norm.cdf(z_score)"
   ]
  },
  {
   "cell_type": "code",
   "execution_count": 87,
   "id": "62098c7d",
   "metadata": {},
   "outputs": [
    {
     "data": {
      "text/plain": [
       "0.05"
      ]
     },
     "execution_count": 87,
     "metadata": {},
     "output_type": "execute_result"
    }
   ],
   "source": [
    "round(1-(prob2-prob1),2)"
   ]
  },
  {
   "cell_type": "code",
   "execution_count": 88,
   "id": "94cb832a",
   "metadata": {},
   "outputs": [],
   "source": [
    "net_content1 = 1.95\n",
    "z_score = (net_content1 - mean_of_quant)/std_of_quant\n",
    "prob1 = stats.norm.cdf(z_score)\n",
    "\n",
    "net_content2 = 2.05\n",
    "z_score = (net_content2 - mean_of_quant)/std_of_quant\n",
    "prob2 = stats.norm.cdf(z_score)"
   ]
  },
  {
   "cell_type": "code",
   "execution_count": 89,
   "id": "11f6383f",
   "metadata": {},
   "outputs": [
    {
     "data": {
      "text/plain": [
       "0.6826894921370853"
      ]
     },
     "execution_count": 89,
     "metadata": {},
     "output_type": "execute_result"
    }
   ],
   "source": [
    "prob2-prob1"
   ]
  },
  {
   "cell_type": "markdown",
   "id": "09227bcd",
   "metadata": {},
   "source": [
    "# Finding confidence Interval"
   ]
  },
  {
   "cell_type": "code",
   "execution_count": 91,
   "id": "1ef3bc6a",
   "metadata": {},
   "outputs": [
    {
     "name": "stdout",
     "output_type": "stream",
     "text": [
      "interval 1.9952 2.0048\n"
     ]
    }
   ],
   "source": [
    "confidence_level = 0.90\n",
    "sample_size = df['Quantity (lts.)'].count()\n",
    "\n",
    "standard_error = std_of_quant/np.sqrt(sample_size)\n",
    "margin_of_error = stats.t.ppf((1+confidence_level)/2,df=sample_size - 1)*standard_error\n",
    "print('interval',round((mean_of_quant - margin_of_error),4),round((mean_of_quant + margin_of_error),4))"
   ]
  },
  {
   "cell_type": "code",
   "execution_count": null,
   "id": "2aa8c62f",
   "metadata": {},
   "outputs": [],
   "source": []
  }
 ],
 "metadata": {
  "kernelspec": {
   "display_name": "Python 3 (ipykernel)",
   "language": "python",
   "name": "python3"
  },
  "language_info": {
   "codemirror_mode": {
    "name": "ipython",
    "version": 3
   },
   "file_extension": ".py",
   "mimetype": "text/x-python",
   "name": "python",
   "nbconvert_exporter": "python",
   "pygments_lexer": "ipython3",
   "version": "3.11.5"
  }
 },
 "nbformat": 4,
 "nbformat_minor": 5
}
